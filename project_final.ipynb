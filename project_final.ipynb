{
 "cells": [
  {
   "cell_type": "code",
   "execution_count": 109,
   "metadata": {},
   "outputs": [],
   "source": [
    "# !pip install ucimlrepo"
   ]
  },
  {
   "cell_type": "code",
   "execution_count": 110,
   "metadata": {},
   "outputs": [],
   "source": [
    "import pandas as pd\n",
    "import numpy as np\n",
    "import sklearn.model_selection\n",
    "from matplotlib import pyplot as plt\n",
    "from sklearn.neighbors import KNeighborsClassifier\n",
    "from ucimlrepo import fetch_ucirepo\n",
    "from sklearn.model_selection import train_test_split, KFold, cross_val_score,LeaveOneOut\n",
    "from sklearn.linear_model import LogisticRegression\n",
    "from sklearn.metrics import accuracy_score, confusion_matrix, classification_report\n",
    "import numpy as np\n",
    "from sklearn.model_selection import \\\n",
    "(cross_validate,\n",
    "KFold,\n",
    "ShuffleSplit)\n",
    "from sklearn.discriminant_analysis import LinearDiscriminantAnalysis as LDA\n",
    "from sklearn.discriminant_analysis import QuadraticDiscriminantAnalysis as QDA\n",
    "from sklearn.model_selection import LeaveOneOut, KFold\n",
    "\n"
   ]
  },
  {
   "cell_type": "code",
   "execution_count": null,
   "metadata": {},
   "outputs": [],
   "source": []
  },
  {
   "cell_type": "markdown",
   "metadata": {},
   "source": [
    "## Preparation des données"
   ]
  },
  {
   "cell_type": "code",
   "execution_count": 111,
   "metadata": {},
   "outputs": [],
   "source": [
    "#basé sur le tableau ici: https://fr.wikipedia.org/wiki/Indice_de_qualit%C3%A9_de_l'air\n",
    "#on va classifier l'air comme bon (1) (de très bon à moyen) ou mauvais (0) (de médiocre à très mauvais)\n",
    "#en fonction des concentrations\n",
    "def aqi_bon_ou_mauvais(row):\n",
    "    if (\n",
    "        #PM10 dans le tableau\n",
    "        (row['C6H6(GT)'] <= 34) and\n",
    "        (row['NO2(GT)'] <= 134)\n",
    "    ):\n",
    "        return 1\n",
    "    else:\n",
    "        return 0"
   ]
  },
  {
   "cell_type": "code",
   "execution_count": 112,
   "metadata": {},
   "outputs": [],
   "source": [
    "def dataset_formatting(type_dataset = \"Statique\"):\n",
    "    air_quality = fetch_ucirepo(id=360)\n",
    "    # Création du DataFrame\n",
    "    df = air_quality.data.features.copy()\n",
    "    # Conversion des colonnes 'Date' et 'Time' en un format datetime combiné\n",
    "    df['Datetime'] = pd.to_datetime(df['Date'] + ' ' + df['Time'], dayfirst=True, errors='coerce')\n",
    "    # Suppression des lignes avec des valeurs non convertibles\n",
    "    df = df.dropna(subset=['Datetime']).reset_index(drop=True)\n",
    "    # Conversion de 'Datetime' en nombre d'heures depuis l'époque Unix\n",
    "    df['Datetime'] = df['Datetime'].astype('int64') // 10 ** 9 // 3600\n",
    "    # Tri des données par datetime\n",
    "    df = df.sort_values('Datetime').reset_index(drop=True)\n",
    "    df['AQI'] = df.apply(aqi_bon_ou_mauvais, axis=1)\n",
    "    # Création de la colonne AQI du lendemain à la même heure\n",
    "    df['AQI_lendemain'] = df['AQI'].shift(-24)\n",
    "    # Suppression des lignes où AQI_lendemain est NaN (celles pour lesquelles nous n'avons pas de données du lendemain)\n",
    "    df = df.dropna(subset=['AQI_lendemain']).reset_index(drop=True)\n",
    "    df_statique = df.copy()\n",
    "    if type_dataset == \"Statique\" :\n",
    "        return df_statique\n",
    "    if type_dataset == \"Dynamique\" :\n",
    "        # Prépapration du dataset pour modeles dynamiques :\n",
    "        df_dynamique = df.copy()\n",
    "        # Création des colonnes pour les polluants à h-2 et h-4 pour tous les polluants disponibles\n",
    "        polluants = [col for col in df.columns if col not in ['Date', 'Time', 'Datetime', 'AQI', 'AQI_lendemain']]\n",
    "        for p in polluants:\n",
    "            df_dynamique[f'{p}_h-2'] = df[p].shift(2)\n",
    "            df_dynamique[f'{p}_h-4'] = df[p].shift(4)\n",
    "\n",
    "        # Suppression des lignes avec des valeurs manquantes dues au décalage\n",
    "        colonnes_a_verifier = ([f'{p}_h-2' for p in polluants]\n",
    "                               + [f'{p}_h-4' for p in polluants])\n",
    "        df_dynamique = df_dynamique.dropna(subset=colonnes_a_verifier).reset_index(drop=True)\n",
    "\n",
    "        return df_dynamique\n",
    "\n",
    "\n",
    "\n",
    "df_dyn = dataset_formatting(type_dataset = \"Dynamique\")\n",
    "df_stat = dataset_formatting(type_dataset = \"Statique\") #(default)\n",
    "\n"
   ]
  },
  {
   "cell_type": "code",
   "execution_count": 113,
   "metadata": {},
   "outputs": [],
   "source": [
    "# df= df_dyn\n",
    "df= df_stat"
   ]
  },
  {
   "cell_type": "code",
   "execution_count": 114,
   "metadata": {},
   "outputs": [],
   "source": [
    "\n",
    "\n",
    "# air_quality = fetch_ucirepo(id=360)\n",
    "\n",
    "# # Création du DataFrame\n",
    "# df = air_quality.data.features.copy()\n",
    "\n",
    "# print(\"Date : \",df['Date'] )\n",
    "# # Date :  0       3/10/2004\n",
    "# # 1       3/10/2004\n",
    "# # 2       3/10/2004\n",
    "# # 3       3/10/2004\n",
    "# # 4       3/10/2004\n",
    "# #           ...\n",
    "\n",
    "# print(\"Heure : \",df['Time'] )\n",
    "# #Heure :  0       18:00:00\n",
    "# # 1       19:00:00\n",
    "# # 2       20:00:00\n",
    "# # 3       21:00:00\n",
    "# # 4       22:00:00\n",
    "# #           ...\n",
    "\n",
    "\n",
    "data_train,data_test = train_test_split(df,train_size = 0.9,test_size = 0.1,random_state = 42)\n",
    "\n",
    "X = df.drop(columns=['AQI', 'Date', 'Time', 'AQI_lendemain'])\n",
    "y = df['AQI_lendemain']\n",
    "\n",
    "X_train, X_test, y_train, y_test = train_test_split(X, y, test_size=0.3, random_state=1)"
   ]
  },
  {
   "cell_type": "code",
   "execution_count": 115,
   "metadata": {},
   "outputs": [
    {
     "data": {
      "text/plain": [
       "<AxesSubplot:ylabel='count'>"
      ]
     },
     "execution_count": 115,
     "metadata": {},
     "output_type": "execute_result"
    },
    {
     "data": {
      "image/png": "[encoded data removed]",
      "text/plain": [
       "<Figure size 640x480 with 1 Axes>"
      ]
     },
     "metadata": {},
     "output_type": "display_data"
    }
   ],
   "source": [
    "\n",
    "\n",
    "#print(df['AQI'].value_counts())\n",
    "labels = ['Good', 'Bad']\n",
    "explode = (0,0.1)\n",
    "df['AQI'].value_counts().plot.pie(autopct='%1.1f%%', explode = explode, labels = labels, shadow = True)\n",
    "df['AQI'].value_counts().plot.pie(autopct='%1.1f%%', explode = explode, labels = labels, shadow = True)"
   ]
  },
  {
   "cell_type": "code",
   "execution_count": 116,
   "metadata": {},
   "outputs": [
    {
     "name": "stdout",
     "output_type": "stream",
     "text": [
      "                       VIF\n",
      "CO(GT)            2.125026\n",
      "PT08.S1(CO)     272.008043\n",
      "NMHC(GT)          4.195180\n",
      "C6H6(GT)       1655.980228\n",
      "PT08.S2(NMHC)   733.871691\n",
      "NOx(GT)          11.891470\n",
      "PT08.S3(NOx)     37.406233\n",
      "NO2(GT)           7.209488\n",
      "PT08.S4(NO2)    202.576351\n",
      "PT08.S5(O3)      58.969068\n",
      "T               239.130328\n",
      "RH               77.059002\n",
      "AH             2131.549440\n",
      "Datetime        514.530930\n"
     ]
    }
   ],
   "source": [
    "#section 3.6.4 : collinéarité entre les variables explicatives\n",
    "from statsmodels.stats.outliers_influence import variance_inflation_factor as VIF\n",
    "X_features = X\n",
    "vals = []\n",
    "for i in range(X_features.shape[1]):\n",
    "    vals.append(VIF(X_features.values, i))\n",
    "vif_df = pd.DataFrame({'VIF': vals}, index=X_features.columns)\n",
    "print(vif_df)\n",
    "grande_col = ['AH', 'C6H6(GT)']\n",
    "X_filtered = X.drop(columns=grande_col)\n"
   ]
  },
  {
   "cell_type": "code",
   "execution_count": null,
   "metadata": {},
   "outputs": [],
   "source": []
  },
  {
   "cell_type": "code",
   "execution_count": null,
   "metadata": {},
   "outputs": [],
   "source": []
  },
  {
   "cell_type": "markdown",
   "metadata": {},
   "source": [
    "## Logistic Regression"
   ]
  },
  {
   "cell_type": "code",
   "execution_count": 117,
   "metadata": {},
   "outputs": [],
   "source": [
    "# Import des bibliothèques nécessaires\n",
    "from sklearn.linear_model import LogisticRegression\n",
    "from sklearn.metrics import accuracy_score, confusion_matrix, classification_report\n",
    "import numpy as np\n",
    "from sklearn.model_selection import train_test_split\n",
    "X_train, X_test, y_train, y_test = train_test_split(X_filtered, y, test_size=0.3, random_state=42)\n",
    "\n"
   ]
  },
  {
   "cell_type": "code",
   "execution_count": 118,
   "metadata": {},
   "outputs": [
    {
     "name": "stdout",
     "output_type": "stream",
     "text": [
      "Optimization terminated successfully.\n",
      "         Current function value: 0.400902\n",
      "         Iterations 8\n",
      "                           Logit Regression Results                           \n",
      "==============================================================================\n",
      "Dep. Variable:          AQI_lendemain   No. Observations:                 2501\n",
      "Model:                          Logit   Df Residuals:                     2488\n",
      "Method:                           MLE   Df Model:                           12\n",
      "Date:                Sat, 14 Dec 2024   Pseudo R-squ.:                  0.2742\n",
      "Time:                        16:50:30   Log-Likelihood:                -1002.7\n",
      "converged:                       True   LL-Null:                       -1381.4\n",
      "Covariance Type:            nonrobust   LLR p-value:                2.099e-154\n",
      "=================================================================================\n",
      "                    coef    std err          z      P>|z|      [0.025      0.975]\n",
      "---------------------------------------------------------------------------------\n",
      "const            56.4355      5.988      9.425      0.000      44.700      68.171\n",
      "CO(GT)            0.0018      0.001      1.442      0.149      -0.001       0.004\n",
      "PT08.S1(CO)      -0.0035      0.001     -3.779      0.000      -0.005      -0.002\n",
      "NMHC(GT)          0.0042      0.001      3.879      0.000       0.002       0.006\n",
      "PT08.S2(NMHC)    -0.0028      0.001     -3.335      0.001      -0.004      -0.001\n",
      "NOx(GT)          -0.0013      0.001     -2.251      0.024      -0.002      -0.000\n",
      "PT08.S3(NOx)      0.0019      0.001      3.519      0.000       0.001       0.003\n",
      "NO2(GT)          -0.0021      0.001     -1.890      0.059      -0.004     7.9e-05\n",
      "PT08.S4(NO2)      0.0017      0.000      4.541      0.000       0.001       0.002\n",
      "PT08.S5(O3)       0.0026      0.000      6.355      0.000       0.002       0.003\n",
      "T                -0.0102      0.006     -1.834      0.067      -0.021       0.001\n",
      "RH                0.0110      0.003      3.318      0.001       0.005       0.018\n",
      "Datetime         -0.0002   1.94e-05     -9.215      0.000      -0.000      -0.000\n",
      "=================================================================================\n"
     ]
    }
   ],
   "source": [
    "#variables qui ne contribuent pas significativement au modèle\n",
    "#ici on va pas utiliser LogisticRegression parce que je vois qu'il ne donne pas de summary() et donc on ne pourra pas avoir accès aux p-values\n",
    "import statsmodels.api as sm\n",
    "X_train_const = sm.add_constant(X_train)\n",
    "log_model = sm.Logit(y_train, X_train_const).fit()\n",
    "print(log_model.summary())\n",
    "#on var regarder quand la p-value est plus grande que 0.05, alors on va supprimer les colonnes car elles ne correspondent pas significativement au modèle"
   ]
  },
  {
   "cell_type": "code",
   "execution_count": 119,
   "metadata": {},
   "outputs": [],
   "source": [
    "#-----après avoir regardé les variables qui ne contribuaient pas significativement au modèle\n",
    "# \n",
    "colonnes_a_supprimer = ['NOx(GT)', 'T', 'CO(GT)']\n",
    "\n",
    "# Suppression des colonnes\n",
    "X_train = X_train.drop(columns=colonnes_a_supprimer)\n",
    "X_test = X_test.drop(columns=colonnes_a_supprimer)\n",
    "X_train_log=X_train\n"
   ]
  },
  {
   "cell_type": "code",
   "execution_count": 120,
   "metadata": {},
   "outputs": [
    {
     "name": "stdout",
     "output_type": "stream",
     "text": [
      "Le taux d'erreur avec le modèle de régression logistique est : 0.1632\n"
     ]
    },
    {
     "name": "stderr",
     "output_type": "stream",
     "text": [
      "c:\\Users\\clemd\\anaconda3\\envs\\datamining\\lib\\site-packages\\sklearn\\linear_model\\_logistic.py:469: ConvergenceWarning: lbfgs failed to converge (status=1):\n",
      "STOP: TOTAL NO. of ITERATIONS REACHED LIMIT.\n",
      "\n",
      "Increase the number of iterations (max_iter) or scale the data as shown in:\n",
      "    https://scikit-learn.org/stable/modules/preprocessing.html\n",
      "Please also refer to the documentation for alternative solver options:\n",
      "    https://scikit-learn.org/stable/modules/linear_model.html#logistic-regression\n",
      "  n_iter_i = _check_optimize_result(\n"
     ]
    }
   ],
   "source": [
    "#on peut refiare le log mnt\n",
    "log_model = LogisticRegression(max_iter=100)\n",
    "log_model.fit(X_train, y_train)\n",
    "y_pred_proba = log_model.predict_proba(X_test)\n",
    "logit_labels = np.where(y_pred_proba[:, 1] > 0.5, 1, 0)\n",
    "taux_erreur = 1-accuracy_score(y_test, logit_labels)\n",
    "print(f\"Le taux d'erreur avec le modèle de régression logistique est : {taux_erreur:.4f}\")"
   ]
  },
  {
   "cell_type": "code",
   "execution_count": 121,
   "metadata": {},
   "outputs": [
    {
     "name": "stdout",
     "output_type": "stream",
     "text": [
      "\n",
      "Matrice de confusion :\n",
      "[[127 121]\n",
      " [ 54 770]]\n"
     ]
    }
   ],
   "source": [
    "print(\"\\nMatrice de confusion :\")\n",
    "conf_matrix = confusion_matrix(y_test, logit_labels)\n",
    "print(conf_matrix)"
   ]
  },
  {
   "cell_type": "code",
   "execution_count": 122,
   "metadata": {},
   "outputs": [
    {
     "name": "stdout",
     "output_type": "stream",
     "text": [
      "\n",
      "Rapport de classification :\n",
      "              precision    recall  f1-score   support\n",
      "\n",
      "         0.0       0.70      0.51      0.59       248\n",
      "         1.0       0.86      0.93      0.90       824\n",
      "\n",
      "    accuracy                           0.84      1072\n",
      "   macro avg       0.78      0.72      0.75      1072\n",
      "weighted avg       0.83      0.84      0.83      1072\n",
      "\n"
     ]
    }
   ],
   "source": [
    "print(\"\\nRapport de classification :\")\n",
    "print(classification_report(y_test, logit_labels))"
   ]
  },
  {
   "cell_type": "markdown",
   "metadata": {},
   "source": [
    "## KNN"
   ]
  },
  {
   "cell_type": "code",
   "execution_count": 123,
   "metadata": {},
   "outputs": [],
   "source": [
    "X_train, X_test, y_train, y_test = train_test_split(X_filtered, y, test_size=0.3, random_state=42)"
   ]
  },
  {
   "cell_type": "code",
   "execution_count": 124,
   "metadata": {},
   "outputs": [],
   "source": [
    "# # Modèle KNN :\n",
    "# nb_donne = len(df['Date'])\n",
    "# k_vect = np.array([5, 10, 15, 20 ,30, 40, 50, 75, 100, 150, 200]) #np.arange(1, 181)\n",
    "# err_loocv = []\n",
    "# err_5fold = []\n",
    "# cv_loocv = KFold(n_splits=nb_donne, shuffle=True, random_state=42)  # LOOCV : k-Fold avec k=n\n",
    "# cv_5fold = KFold(n_splits=5, shuffle=True, random_state=42)  # 5-Fold CV\n",
    "\n",
    "# for k in k_vect:\n",
    "#     knn = KNeighborsClassifier(n_neighbors=k)\n",
    "#     print(f\"k = {k}\")\n",
    "#     error_loocv = 1 - np.mean(cross_val_score(knn, X, y, cv=cv_loocv, scoring='accuracy'))\n",
    "#     error_5fold = 1 - np.mean(cross_val_score(knn, X, y, cv=cv_5fold, scoring='accuracy'))\n",
    "#     err_5fold.append(error_5fold)\n",
    "#     err_loocv.append(error_loocv)\n",
    "\n",
    "# # Courbes\n",
    "# plt.plot(1 / k_vect, err_loocv, label='LOOCV', color='blue')\n",
    "# plt.plot(1 / k_vect, err_5fold, label='5-Fold', color='green')\n",
    "# plt.xlabel('1 / K')\n",
    "# plt.ylabel('Erreur de la validation croisé')\n",
    "# plt.title('Erreur de validation croisé pour LOOCV et 5-Fold CV')\n",
    "# plt.legend()\n",
    "# plt.grid(True)\n",
    "# plt.show()\n",
    "\n",
    "\n",
    "# k_best = k_vect[np.argmin(err_loocv)]\n",
    "# print(f\"On utilise k (LOOCV) = {k_best}\")\n",
    "# k_best = k_vect[np.argmin(err_5fold)]\n",
    "# print(f\"On utilise k (5-Fold) = {k_best}\")"
   ]
  },
  {
   "cell_type": "markdown",
   "metadata": {},
   "source": [
    "## LDA/QDA"
   ]
  },
  {
   "cell_type": "code",
   "execution_count": 125,
   "metadata": {},
   "outputs": [],
   "source": [
    "X_train, X_test, y_train, y_test = train_test_split(X_filtered, y, test_size=0.3, random_state=42)"
   ]
  },
  {
   "cell_type": "code",
   "execution_count": 126,
   "metadata": {},
   "outputs": [
    {
     "name": "stdout",
     "output_type": "stream",
     "text": [
      "LDA LOOCV  0.16713314674130347\n",
      "LDA 5-Fold  0.16793373253493016\n",
      "QDA LOOCV  0.2686925229908037\n",
      "QDA 5-Fold  0.2683073852295409\n"
     ]
    }
   ],
   "source": [
    "#-----------------------LDA/QDA------------------------------#\n",
    "#section 4.7.3 et 4.7.4\n",
    "# Linear Discriminant Analysis (LDA)\n",
    "# SincetheLDAestimatorautomaticallyaddsanintercept,weshouldre\n",
    "# movethecolumncorrespondingtotheinterceptinbothX_trainandX_test.\n",
    "\n",
    "loo = LeaveOneOut()\n",
    "kf = KFold(n_splits=5, shuffle=True, random_state=42)\n",
    "lda_model = LDA(store_covariance=True)\n",
    "qda_model = QDA(store_covariance=True)\n",
    "#on va faire pareil que l'exo précedent mais sans binomial\n",
    "#(à nv je pense qu'on aurait pu utiliser cross_validate mais bon)\n",
    "def mean_error(model, X, y, cv):\n",
    "    errors = []\n",
    "    #pour chaque fold\n",
    "    for i, j in cv.split(X):\n",
    "        model.fit(X.iloc[i], y.iloc[i])\n",
    "        predictions = model.predict(X.iloc[j])\n",
    "        error = np.mean(predictions!=y.iloc[j])\n",
    "        errors.append(error)\n",
    "    return np.mean(errors)\n",
    "\n",
    "lda_loocv_error = mean_error(lda_model, X_train, y_train, loo)\n",
    "lda_kfold_error = mean_error(lda_model, X_train, y_train, kf)\n",
    "\n",
    "qda_loocv_error = mean_error(qda_model, X_train, y_train, loo)\n",
    "qda_kfold_error = mean_error(qda_model, X_train, y_train, kf)\n",
    "\n",
    "print(\"LDA LOOCV \", lda_loocv_error) #LDA is way better\n",
    "print(\"LDA 5-Fold \", lda_kfold_error)\n",
    "print(\"QDA LOOCV \", qda_loocv_error)\n",
    "print(\"QDA 5-Fold \", qda_kfold_error)"
   ]
  },
  {
   "cell_type": "code",
   "execution_count": 127,
   "metadata": {},
   "outputs": [],
   "source": [
    "lda_model.fit(X_train, y_train)\n",
    "y_pred = lda_model.predict(X_test)"
   ]
  },
  {
   "cell_type": "code",
   "execution_count": 128,
   "metadata": {},
   "outputs": [],
   "source": [
    "# coef = pd.DataFrame({\n",
    "#     'Variable': X_train.columns,\n",
    "#     'Coefficient': np.abs(lda_model.coef_[0])\n",
    "# }).sort_values(by='Coefficient', ascending=False)\n",
    "# print(coef)\n",
    "# # #elles contribuent toutes au modèle\n",
    "X_train_lda=X_train"
   ]
  },
  {
   "cell_type": "code",
   "execution_count": 129,
   "metadata": {},
   "outputs": [
    {
     "name": "stdout",
     "output_type": "stream",
     "text": [
      "Matrice de confusion :\n",
      " [[130 118]\n",
      " [ 51 773]]\n",
      "Rapport de classification :\n",
      "               precision    recall  f1-score   support\n",
      "\n",
      "         0.0       0.72      0.52      0.61       248\n",
      "         1.0       0.87      0.94      0.90       824\n",
      "\n",
      "    accuracy                           0.84      1072\n",
      "   macro avg       0.79      0.73      0.75      1072\n",
      "weighted avg       0.83      0.84      0.83      1072\n",
      "\n"
     ]
    }
   ],
   "source": [
    "conf_matrix = confusion_matrix(y_test, y_pred)\n",
    "print(\"Matrice de confusion :\\n\", conf_matrix)\n",
    "\n",
    "class_report = classification_report(y_test, y_pred)\n",
    "print(\"Rapport de classification :\\n\", class_report)"
   ]
  },
  {
   "cell_type": "markdown",
   "metadata": {},
   "source": [
    "## Prediction"
   ]
  },
  {
   "cell_type": "code",
   "execution_count": 130,
   "metadata": {},
   "outputs": [],
   "source": [
    "#-----------------------Prediction certain jour et heure-----------------#\n",
    "def prediction_aqi(jour, heure, model, colonnes):\n",
    "    point_de_donnees = df[(df['Date'] == jour) & (df['Time'] == heure)]\n",
    "    \n",
    "    if not point_de_donnees.empty:\n",
    "        X_point = point_de_donnees[colonnes]\n",
    "        prediction = model.predict(X_point)\n",
    "        print(f\"Modèle: {model} -> prrédiction pour {jour} à {heure} : {'Bonne' if prediction[0] == 1 else 'Mauvaise'}\")\n",
    "    else:\n",
    "        print(f\"Modèle: {model} -> aucune donnée pour {jour} à {heure}\")\n"
   ]
  },
  {
   "cell_type": "code",
   "execution_count": 131,
   "metadata": {},
   "outputs": [
    {
     "name": "stdout",
     "output_type": "stream",
     "text": [
      "Modèle: LogisticRegression() -> prrédiction pour 3/10/2004 à 18:00:00 : Bonne\n"
     ]
    }
   ],
   "source": [
    "# exemple en utilisant log\n",
    "#ici j'ai pris le premier point mais on peut changer, limite créer un truc qui fait qu'on demande au visiteur du site \n",
    "colonne= X_train_log.columns\n",
    "prediction_aqi(\"3/10/2004\", \"18:00:00\", log_model,colonne)"
   ]
  },
  {
   "cell_type": "code",
   "execution_count": 132,
   "metadata": {},
   "outputs": [
    {
     "name": "stdout",
     "output_type": "stream",
     "text": [
      "Modèle: LinearDiscriminantAnalysis(store_covariance=True) -> prrédiction pour 3/10/2004 à 18:00:00 : Bonne\n"
     ]
    }
   ],
   "source": [
    "#exemple en utilisant LDA\n",
    "colonne= X_train_lda.columns\n",
    "prediction_aqi(\"3/10/2004\", \"18:00:00\", lda_model,colonne)"
   ]
  },
  {
   "cell_type": "code",
   "execution_count": 133,
   "metadata": {},
   "outputs": [
    {
     "ename": "TypeError",
     "evalue": "prediction_aqi() missing 1 required positional argument: 'colonnes'",
     "output_type": "error",
     "traceback": [
      "\u001b[1;31m---------------------------------------------------------------------------\u001b[0m",
      "\u001b[1;31mTypeError\u001b[0m                                 Traceback (most recent call last)",
      "Cell \u001b[1;32mIn [133], line 4\u001b[0m\n\u001b[0;32m      2\u001b[0m knn \u001b[38;5;241m=\u001b[39m KNeighborsClassifier(n_neighbors\u001b[38;5;241m=\u001b[39m\u001b[38;5;241m5\u001b[39m)\n\u001b[0;32m      3\u001b[0m knn\u001b[38;5;241m.\u001b[39mfit(X_train, y_train)\n\u001b[1;32m----> 4\u001b[0m \u001b[43mprediction_aqi\u001b[49m\u001b[43m(\u001b[49m\u001b[38;5;124;43m\"\u001b[39;49m\u001b[38;5;124;43m3/10/2004\u001b[39;49m\u001b[38;5;124;43m\"\u001b[39;49m\u001b[43m,\u001b[49m\u001b[43m \u001b[49m\u001b[38;5;124;43m\"\u001b[39;49m\u001b[38;5;124;43m18:00:00\u001b[39;49m\u001b[38;5;124;43m\"\u001b[39;49m\u001b[43m,\u001b[49m\u001b[43m \u001b[49m\u001b[43mknn\u001b[49m\u001b[43m)\u001b[49m\n",
      "\u001b[1;31mTypeError\u001b[0m: prediction_aqi() missing 1 required positional argument: 'colonnes'"
     ]
    }
   ],
   "source": [
    "## exemple en utilisant knn\n",
    "knn = KNeighborsClassifier(n_neighbors=5)\n",
    "knn.fit(X_train, y_train)\n",
    "prediction_aqi(\"3/10/2004\", \"18:00:00\", knn)"
   ]
  }
 ],
 "metadata": {
  "kernelspec": {
   "display_name": "datamining",
   "language": "python",
   "name": "python3"
  },
  "language_info": {
   "codemirror_mode": {
    "name": "ipython",
    "version": 3
   },
   "file_extension": ".py",
   "mimetype": "text/x-python",
   "name": "python",
   "nbconvert_exporter": "python",
   "pygments_lexer": "ipython3",
   "version": "3.10.13"
  }
 },
 "nbformat": 4,
 "nbformat_minor": 2
}
